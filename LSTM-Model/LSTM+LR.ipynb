{
 "cells": [
  {
   "cell_type": "code",
   "execution_count": 1,
   "metadata": {},
   "outputs": [],
   "source": [
    "import pickle\n",
    "import numpy as np\n",
    "import pandas as pd\n",
    "import tensorflow as tf\n",
    "import matplotlib.pyplot as plt\n",
    "from sklearn import linear_model\n",
    "from sklearn import preprocessing\n",
    "import matplotlib.patches as mpatches\n",
    "from sklearn.metrics import mean_absolute_error\n",
    "from tensorflow.keras.models import Sequential, load_model\n",
    "from tensorflow.keras.layers import Dense, LSTM, Dropout, Flatten\n",
    "from datetime import datetime\n",
    "%matplotlib inline"
   ]
  },
  {
   "cell_type": "code",
   "execution_count": 2,
   "metadata": {},
   "outputs": [],
   "source": [
    "'''\n",
    "Everything before test year is training data\n",
    "'''\n",
    "\n",
    "test_year = 2016\n",
    "\n",
    "'''\n",
    "granularity can be single, state-wise ('state'), or county-wise('county')\n",
    "'''\n",
    "granularity = 'single'"
   ]
  },
  {
   "cell_type": "code",
   "execution_count": 39,
   "metadata": {},
   "outputs": [],
   "source": [
    "def isCountyLevel():\n",
    "    return granularity == 'county'\n",
    "\n",
    "def isStateLevel():\n",
    "    return granularity == 'state'\n",
    "\n",
    "def isSingleLevel():\n",
    "    return granularity == 'single'"
   ]
  },
  {
   "cell_type": "code",
   "execution_count": 4,
   "metadata": {},
   "outputs": [],
   "source": [
    "'''\n",
    "Hyperparameters, features, other important values.\n",
    "'''\n",
    "\n",
    "batch_size = 32\n",
    "epochs = 5\n",
    "latent = 256\n",
    "\n",
    "'''\n",
    "Size of each window\n",
    "'''\n",
    "window_size = 7\n",
    "\n",
    "\n",
    "week = 7\n",
    "\n",
    "len_year = 365\n",
    "\n",
    "\n",
    "timeStart = 207\n",
    "timeEnd = 214\n",
    "\n",
    "linear_features =  ['TELLUSCHIN']\n",
    "lstm_features = ['TELLUSCHIN', 'doy', 'TELLUSCHIN_priors']\n",
    "output = ['yield']\n",
    "\n",
    "input_file = \"./US_data_modified.csv\""
   ]
  },
  {
   "cell_type": "code",
   "execution_count": 5,
   "metadata": {},
   "outputs": [],
   "source": [
    "'''\n",
    "Rolling prediction, uses only the data from start, then uses the model predictions to\n",
    "make further predictions. \n",
    "\n",
    "data - 2 weeks starting data\n",
    "model - lstm model to make the predictions\n",
    "start, end - start dates for the predictions\n",
    "rolling_prediction - vi output from rolling prediction\n",
    "'''\n",
    "def rollPredict(start, end, data, model, window_size, features, scale):\n",
    "    i = start\n",
    "    next_prediction = data.copy()\n",
    "    rolling_prediction = next_prediction.flatten()[0::len(features)]\n",
    "    #print(rolling_prediction)\n",
    "    while i+window_size < end:\n",
    "        prediction = model.predict(next_prediction.reshape(1, window_size, len(features)))\n",
    "        day = next_prediction[-1][1]\n",
    "        for j in range(0, window_size):\n",
    "            day = ((scale*day+1)%365)/scale\n",
    "            next_prediction[j][0] = prediction[0][j]\n",
    "            next_prediction[j][1] = day\n",
    "            next_prediction[j][2] = next_prediction[0][2]\n",
    "        rolling_prediction = np.append(rolling_prediction, prediction)\n",
    "        i+=window_size\n",
    "\n",
    "    return rolling_prediction"
   ]
  },
  {
   "cell_type": "code",
   "execution_count": 6,
   "metadata": {},
   "outputs": [],
   "source": [
    "'''\n",
    "Prepares the LSTM with the global hyperparameters\n",
    "'''\n",
    "def prepareLSTM():\n",
    "    model = Sequential()\n",
    "\n",
    "    model.add(LSTM(units = latent, activation = 'softsign', input_shape = (window_size, len(lstm_features)), return_sequences = True))\n",
    "\n",
    "    #model.add(Dropout(0.1))\n",
    "\n",
    "    model.add(Flatten())\n",
    "    \n",
    "    model.add(Dense(units = window_size, activation='softsign'))\n",
    "\n",
    "    model.compile(loss='mse', optimizer='adam', metrics=['mse'])\n",
    "\n",
    "    return model"
   ]
  },
  {
   "cell_type": "code",
   "execution_count": 7,
   "metadata": {},
   "outputs": [],
   "source": [
    "'''\n",
    "Prepare VI priors, between given start and end day\n",
    "Adm2_code must be int before calling this\n",
    "'''\n",
    "def prepFeaturePriors(raw, feature, start, end):\n",
    "    \n",
    "    name = feature + '_priors'\n",
    "    \n",
    "    raw = raw.assign(**{name : pd.Series(np.full(len(raw['year']), 0))})\n",
    "    \n",
    "   \n",
    "    u_counties = raw['adm2_code'].unique()\n",
    "    for year in range(np.min(raw['year'].unique()) + 1, np.max(raw['year'].unique()) + 1):\n",
    "        \n",
    "        int_counties = np.intersect1d(raw.loc[(raw.year == year), 'adm2_code'].values, raw.loc[(raw.year == year-1), 'adm2_code'].values)\n",
    "        year_counties = raw.loc[(raw.year == year), 'adm2_code'].unique()\n",
    "        \n",
    "        #For each county in current year\n",
    "        for county in year_counties:    \n",
    "            \n",
    "            #if it was in the previous year, take the value\n",
    "            if county in int_counties:\n",
    "                feature_value = raw.loc[raw.adm2_code == county].loc[(raw.doy >= start) & (raw.doy < end)].loc[(raw.year == year-1) , feature].values\n",
    "                raw.loc[(raw.adm2_code == county) & (raw.year == year) , name] = np.mean(feature_value)\n",
    "                \n",
    "            #else, take the value of the closest county in the previous year\n",
    "            #for county level predictions\n",
    "\n",
    "            elif (county_level):\n",
    "                close_counties = np.sort(dists.loc[dists.county1 == county, 'county2'].values)\n",
    "                for elem in close_counties:\n",
    "                    if elem in int_counties:\n",
    "                        feature_value = raw.loc[raw.adm2_code == elem].loc[(raw.doy >= start) & (raw.doy < end)].loc[(raw.year == year-1), feature].values\n",
    "                        raw.loc[(raw.adm2_code == county) & (raw.year == year), name] = np.mean(feature_value)\n",
    "                        break\n",
    "            \n",
    "            \n",
    "    \n",
    "    return raw"
   ]
  },
  {
   "cell_type": "code",
   "execution_count": 8,
   "metadata": {},
   "outputs": [],
   "source": [
    "'''\n",
    "window the data for the lstm\n",
    "'''\n",
    "def window(data, window_size, features):\n",
    "    size = len(data)\n",
    "    \n",
    "    prep_data  = np.zeros([size - 2*window_size + 1, window_size, len(features)])\n",
    "    prep_label = np.zeros([size - 2*window_size + 1, window_size])\n",
    "    i = 0\n",
    "    while i + 2*window_size <= size:\n",
    "        prep_data[i] =  data[i : i+window_size]\n",
    "        prep_label[i] =  data[i + window_size : i + 2*window_size].flatten()[0::len(features)]\n",
    "        i+=1\n",
    "    assert(len(prep_data) == len(prep_label))\n",
    "    return prep_data, prep_label"
   ]
  },
  {
   "cell_type": "code",
   "execution_count": 9,
   "metadata": {},
   "outputs": [],
   "source": [
    "'''\n",
    "Error metrics for evaluation\n",
    "'''\n",
    "\n",
    "\n",
    "'''\n",
    "Mean Average Percentage Error per prediction\n",
    "'''\n",
    "def MAPE(pred, actual):\n",
    "    error = np.abs(np.array(pred) - np.array(actual))/(actual)\n",
    "    return 100*np.mean(error)\n",
    "\n",
    "\n",
    "'''\n",
    "RMSE per prediction\n",
    "'''\n",
    "def RMSE(predicted, actual):\n",
    "    error = ((predicted-actual)**2)\n",
    "    return np.sqrt(np.mean(error))"
   ]
  },
  {
   "cell_type": "code",
   "execution_count": 10,
   "metadata": {},
   "outputs": [],
   "source": [
    "'''\n",
    "Basic data prep\n",
    "'''\n",
    "raw = pd.read_csv(input_file)\n",
    "\n",
    "\n",
    "#for county level predictions\n",
    "if(isCountyLevel()):\n",
    "    dists = pd.read_csv(\"Illinois_county_dist.csv\")\n",
    "    raw['adm2_code'] = raw['adm2_code'].apply(lambda x : np.float32(x[4:]))\n"
   ]
  },
  {
   "cell_type": "code",
   "execution_count": 12,
   "metadata": {},
   "outputs": [],
   "source": [
    "'''\n",
    "data prep for linear model\n",
    "'''\n",
    "\n",
    "'''\n",
    "For county level predictions\n",
    "'''\n",
    "\n",
    "linear_raw = raw.loc[(raw.doy >= timeStart) & (raw.doy <= timeEnd)].groupby(['year', 'adm2_code']).mean().dropna().reset_index()\n",
    "\n",
    "\n",
    "'''\n",
    "Segment data into training and testing\n",
    "'''\n",
    "lin_test_data   = (linear_raw.loc[linear_raw.year == test_year, linear_features].values).reshape(-1,len(linear_features))\n",
    "lin_test_label  = (linear_raw.loc[linear_raw.year == test_year, output].values).reshape(-1,len(output)).ravel()\n",
    "lin_train_data  = (linear_raw.loc[(linear_raw.year < test_year), linear_features].values).reshape(-1,len(linear_features))\n",
    "lin_train_label = (linear_raw.loc[(linear_raw.year < test_year), output].values).reshape(-1,len(output)).ravel()"
   ]
  },
  {
   "cell_type": "code",
   "execution_count": 13,
   "metadata": {},
   "outputs": [],
   "source": [
    "'''\n",
    "Specify the error metric\n",
    "'''\n",
    "\n",
    "error_metric = MAPE"
   ]
  },
  {
   "cell_type": "code",
   "execution_count": 14,
   "metadata": {},
   "outputs": [],
   "source": [
    "'''\n",
    "fit linear models\n",
    "'''\n",
    "yield_model = linear_model.LinearRegression().fit(lin_train_data, lin_train_label)"
   ]
  },
  {
   "cell_type": "code",
   "execution_count": 15,
   "metadata": {},
   "outputs": [],
   "source": [
    "'''\n",
    "Make predictions, calculate error on test set.\n",
    "'''\n",
    "\n",
    "yield_predicted = yield_model.predict(lin_test_data)"
   ]
  },
  {
   "cell_type": "code",
   "execution_count": 16,
   "metadata": {},
   "outputs": [
    {
     "name": "stdout",
     "output_type": "stream",
     "text": [
      "Yield Prediction Error using MAPE for testing on 2016 in percentage =  0.7796726714022808\n"
     ]
    }
   ],
   "source": [
    "error_lr = error_metric(yield_predicted, lin_test_label)\n",
    "print(\"Yield Prediction Error using \" + str(error_metric).split()[1] + \" for testing on \" + str(test_year) + \" in percentage = \", error_lr)"
   ]
  },
  {
   "cell_type": "markdown",
   "metadata": {},
   "source": [
    "This is the prediction accuracy for \"timeStart\", which is defined to be the 207 day of the year, however, \n",
    "the goal of this module is to make predictions early"
   ]
  },
  {
   "cell_type": "code",
   "execution_count": 17,
   "metadata": {},
   "outputs": [],
   "source": [
    "if(isStateLevel()):\n",
    "    us_area = pd.read_csv(\"US_Corn_Area_data.csv\")\n",
    "    states = (linear_raw.loc[linear_raw.year == test_year, ['adm2_code']].values).ravel()\n",
    "    areas = us_area.loc[(us_area.Year == test_year) & (us_area.region.isin(reg)) & (us_area.Code.isin(states)), 'Harvest area'].values\n"
   ]
  },
  {
   "cell_type": "code",
   "execution_count": 19,
   "metadata": {},
   "outputs": [],
   "source": [
    "'''\n",
    "Save trained linear model\n",
    "'''\n",
    "lr_filename = \"linear/\" + linear_features[0] + \"_\"  + granularity + \"_lin_yield_predictor_2_\" + str(test_year) +  \".sav\"\n",
    "pickle.dump(yield_model, open(lr_filename, 'wb'))"
   ]
  },
  {
   "cell_type": "code",
   "execution_count": 20,
   "metadata": {},
   "outputs": [],
   "source": [
    "'''\n",
    "Use prepare training and testing data for lstm, validation split\n",
    "is handled by keras. Only use years BEFORE test year\n",
    "'''\n",
    "\n",
    "min_year = np.min(raw['year'].unique())\n",
    "raw = prepFeaturePriors(raw, linear_features[0], timeStart, timeEnd)\n",
    "raw = raw.reset_index(drop=True)\n",
    "raw = raw.drop(raw.loc[(raw.year == min_year)].index)\n",
    "raw = raw.drop(raw.loc[raw.doy == 366].index)\n",
    "raw.sort_values(['adm2_code', 'year'])\n",
    "raw = raw.reset_index(drop=True)"
   ]
  },
  {
   "cell_type": "code",
   "execution_count": 21,
   "metadata": {},
   "outputs": [],
   "source": [
    "'''\n",
    "Normalize days to be between 0-1\n",
    "'''\n",
    "scale = raw['doy'].max()\n",
    "raw['doy'] = raw['doy']/scale"
   ]
  },
  {
   "cell_type": "code",
   "execution_count": 22,
   "metadata": {},
   "outputs": [],
   "source": [
    "'''\n",
    "Create test and training dataset for LSTM\n",
    "'''\n",
    "def prepareLSTMdataset():\n",
    "    lstm_train_data, lstm_train_labels, lstm_test_data, lstm_test_labels = [],[],[],[]\n",
    "    for year in range(min_year+1, test_year+1):\n",
    "        counties = raw.loc[raw.year == year, 'adm2_code'].unique()\n",
    "        for county in counties:\n",
    "            data = raw.loc[(raw.year == year) & (raw.adm2_code == county) & (raw.doy < year/scale), lstm_features].sort_values(['doy'])\n",
    "            lstm_windowed_t, lstm_windowed_labels_t = window(data.values, window_size, lstm_features)\n",
    "            if year < test_year:\n",
    "                for elem in lstm_windowed_t:\n",
    "                    lstm_train_data.append(elem)\n",
    "                for elem in lstm_windowed_labels_t:\n",
    "                    lstm_train_labels.append(elem)\n",
    "            else:\n",
    "                lstm_test_data.append(lstm_windowed_t)\n",
    "                lstm_test_labels.append(lstm_windowed_labels_t)\n",
    "\n",
    "    lstm_test_data = np.array(lstm_test_data).reshape((-1, window_size, len(lstm_features)))\n",
    "    lstm_test_labels = np.array(lstm_test_labels).reshape((-1, window_size))\n",
    "    lstm_train_data = np.array(lstm_train_data).reshape((-1, window_size, len(lstm_features)))\n",
    "    lstm_train_labels = np.array(lstm_train_labels).reshape((-1, window_size))\n",
    "    \n",
    "    return lstm_train_data, lstm_train_labels, lstm_test_data, lstm_test_labels\n",
    "\n",
    "\n",
    "\n",
    "lstm_train_data, lstm_train_labels, lstm_test_data, lstm_test_labels = prepareLSTMdataset()"
   ]
  },
  {
   "cell_type": "code",
   "execution_count": 28,
   "metadata": {},
   "outputs": [
    {
     "name": "stdout",
     "output_type": "stream",
     "text": [
      "Train on 1384 samples, validate on 347 samples\n",
      "Epoch 1/100\n",
      "1384/1384 [==============================] - 2s 2ms/step - loss: 0.0138 - mean_squared_error: 0.0138 - val_loss: 0.0024 - val_mean_squared_error: 0.0024\n",
      "Epoch 2/100\n",
      "1384/1384 [==============================] - 1s 793us/step - loss: 0.0018 - mean_squared_error: 0.0018 - val_loss: 0.0028 - val_mean_squared_error: 0.0028\n",
      "Epoch 3/100\n",
      "1384/1384 [==============================] - 1s 813us/step - loss: 0.0016 - mean_squared_error: 0.0016 - val_loss: 0.0017 - val_mean_squared_error: 0.0017\n",
      "Epoch 4/100\n",
      "1384/1384 [==============================] - 1s 862us/step - loss: 0.0012 - mean_squared_error: 0.0012 - val_loss: 0.0014 - val_mean_squared_error: 0.0014\n",
      "Epoch 5/100\n",
      "1384/1384 [==============================] - 1s 886us/step - loss: 0.0012 - mean_squared_error: 0.0012 - val_loss: 0.0011 - val_mean_squared_error: 0.0011\n"
     ]
    }
   ],
   "source": [
    "'''\n",
    "prepare and train lstm\n",
    "'''\n",
    "\n",
    "lstm_model = prepareLSTM()\n",
    "earlyStopping = tf.keras.callbacks.EarlyStopping(monitor='loss', patience=0, verbose=0, mode='auto')\n",
    "history = lstm_model.fit(lstm_train_data, lstm_train_labels, batch_size=batch_size, callbacks=[earlyStopping], \n",
    "                    epochs=100, validation_split = 0.2)"
   ]
  },
  {
   "cell_type": "code",
   "execution_count": 29,
   "metadata": {},
   "outputs": [
    {
     "data": {
      "text/plain": [
       "[<matplotlib.lines.Line2D at 0x10da137f0>]"
      ]
     },
     "execution_count": 29,
     "metadata": {},
     "output_type": "execute_result"
    },
    {
     "data": {
      "image/png": "[encoded data removed]",
      "text/plain": [
       "<Figure size 432x288 with 1 Axes>"
      ]
     },
     "metadata": {},
     "output_type": "display_data"
    }
   ],
   "source": [
    "'''\n",
    "plot training and validation curves\n",
    "'''\n",
    "plt.plot(history.history['loss'])\n",
    "plt.plot(history.history['val_loss'])"
   ]
  },
  {
   "cell_type": "code",
   "execution_count": 30,
   "metadata": {},
   "outputs": [
    {
     "name": "stdout",
     "output_type": "stream",
     "text": [
      "345/345 [==============================] - 0s 243us/step\n"
     ]
    },
    {
     "data": {
      "text/plain": [
       "[0.0010416608416404494, 0.0010416608416404494]"
      ]
     },
     "execution_count": 30,
     "metadata": {},
     "output_type": "execute_result"
    }
   ],
   "source": [
    "'''\n",
    "Evaluate on test set for sanity check\n",
    "'''\n",
    "lstm_model.evaluate(lstm_test_data, lstm_test_labels)"
   ]
  },
  {
   "cell_type": "code",
   "execution_count": 32,
   "metadata": {},
   "outputs": [],
   "source": [
    "'''\n",
    "Feature prediction sanity check\n",
    "'''\n",
    "real_mean = np.array([])\n",
    "pred_mean = np.array([])\n",
    "day = 1\n",
    "len_year = 365\n",
    "inc = len_year - 2*window_size + 1\n",
    "\n",
    "for start in range(0, len(lstm_test_data), inc):\n",
    "    end = start+inc\n",
    "    first_window = (lstm_test_data[start+day]).copy()\n",
    "    rolling_prediction = rollPredict(start+day, end, first_window, lstm_model, window_size, lstm_features, scale)\n",
    "    test_set = lstm_test_data[start+day:end+week].flatten()[0::window_size][0::len(lstm_features)]\n",
    "    real_mean = np.append(real_mean, np.mean(test_set[timeStart-day:timeEnd-day]))\n",
    "    pred_mean = np.append(pred_mean, np.mean(rolling_prediction[timeStart-day:timeEnd-day]))"
   ]
  },
  {
   "cell_type": "code",
   "execution_count": 33,
   "metadata": {},
   "outputs": [
    {
     "name": "stderr",
     "output_type": "stream",
     "text": [
      "/anaconda3/lib/python3.6/site-packages/matplotlib/cbook/deprecation.py:107: MatplotlibDeprecationWarning: Adding an axes using the same arguments as a previous axes currently reuses the earlier instance.  In a future version, a new instance will always be created and returned.  Meanwhile, this warning can be suppressed, and the future behavior ensured, by passing a unique label to each axes instance.\n",
      "  warnings.warn(message, mplDeprecation, stacklevel=1)\n"
     ]
    },
    {
     "data": {
      "image/png": "[encoded data removed]",
      "text/plain": [
       "<Figure size 1440x720 with 1 Axes>"
      ]
     },
     "metadata": {},
     "output_type": "display_data"
    }
   ],
   "source": [
    "'''\n",
    "Plot \n",
    "'''\n",
    "\n",
    "\n",
    "plt.figure(figsize=(20,10))\n",
    "pred = mpatches.Patch(color='orange', label='The predicted data') \n",
    "act = mpatches.Patch(color='blue', label='The real data')\n",
    "plt.legend(handles = [pred, act])\n",
    "ax = plt.subplot(111)\n",
    "\n",
    "for each in ['top', 'bottom', 'right', 'left']:\n",
    "    ax.spines[each].set_visible(False)\n",
    "    \n",
    "plt.tick_params(bottom = False, left=False)\n",
    "    \n",
    "plt.plot(real_mean)\n",
    "plt.plot(pred_mean)\n",
    "#plt.xlabel(granularity)\n",
    "plt.ylabel(\"VI value\")\n",
    "plt.title(\"Mean error = \" + str(MAPE(pred_mean, real_mean)))\n",
    "\n",
    "plt.savefig(linear_features[0] + \" Predictions \" + str(test_year))"
   ]
  },
  {
   "cell_type": "code",
   "execution_count": 34,
   "metadata": {},
   "outputs": [],
   "source": [
    "'''\n",
    "save models in respective directories \n",
    "'''\n",
    "\n",
    "lstm_filename = 'LSTM/' + linear_features[0] + \"_\" + granularity + '_with_priors_2_' + str(test_year) + '.h5'\n",
    "lstm_model.save(lstm_filename)"
   ]
  },
  {
   "cell_type": "code",
   "execution_count": 65,
   "metadata": {},
   "outputs": [],
   "source": [
    "'''\n",
    "If you have pretrained models, use these to load them, along with the test_year\n",
    "'''\n",
    "\n",
    "\n",
    "test_year = 2017\n",
    "lstm_model = load_model('LSTM/mod_evi2county_with_priors_2_2017.h5')\n",
    "\n",
    "yield_model = pickle.load(open('Linear/mod_evi2_County_lin_yield_predictor_2_2017.sav', 'rb'))\n"
   ]
  },
  {
   "cell_type": "code",
   "execution_count": 100,
   "metadata": {},
   "outputs": [],
   "source": [
    "'''\n",
    "code for the combined model\n",
    "'''\n",
    "\n",
    "def combined_model(start_day):\n",
    "\n",
    "    result_array = []\n",
    "    model_error = []\n",
    "    model_predictions = []\n",
    "    \n",
    "    test_raw = raw.loc[(raw.year == test_year) & (raw.doy >= start_day/scale) & (raw.doy <= (start_day + window_size)/scale), \n",
    "                       ['adm2_code'] + lstm_features + output]\n",
    "    \n",
    "\n",
    "    test_raw = test_raw.sort_values(['adm2_code','doy']).reset_index(drop=True)\n",
    "    \n",
    "    \n",
    "    for idx in range(0, len(test_raw), window_size):\n",
    "        result =  np.mean(test_raw[idx:idx+window_size][output].values)\n",
    "        result_array.append(result)\n",
    "\n",
    "        #this was added because the raw data is missing feature values for some days.\n",
    "        if(len(test_raw[idx:idx+window_size][lstm_features].values) % 7 != 0):\n",
    "            continue\n",
    "            \n",
    "        window_vi =  test_raw[idx:idx+window_size][lstm_features].values.reshape(1, window_size, len(lstm_features))\n",
    "        rolling_vi = rollPredict(start_day, timeEnd, window_vi[0], lstm_model, window_size, lstm_features, scale)\n",
    "        vi_mean = np.mean(rolling_vi[timeStart-start_day:timeEnd-start_day])\n",
    "        prediction = yield_model.predict([[vi_mean]])\n",
    "        model_predictions = np.append(model_predictions, prediction[0])\n",
    "        \n",
    "    return result_array, model_predictions"
   ]
  },
  {
   "cell_type": "code",
   "execution_count": 115,
   "metadata": {},
   "outputs": [],
   "source": [
    "error = []\n",
    "model_predictions = []\n",
    "result_array = []\n",
    "first_day = 1\n",
    "last_day = 207\n",
    "pred_step = 10\n",
    "for day in range(first_day, last_day, pred_step):\n",
    "    result_array, model_predictions_t = combined_model(day)   \n",
    "    model_predictions.append(model_predictions_t)\n",
    "    error_t = error_metric(model_predictions_t, result_array)\n",
    "    error.append(error_t)"
   ]
  },
  {
   "cell_type": "code",
   "execution_count": 116,
   "metadata": {},
   "outputs": [],
   "source": [
    "\n",
    "#for county level predictions\n",
    "if (isCountyLevel()):\n",
    "    phy = pd.read_csv(\"Processed_Illinois_Corn_Area_data.csv\")\n",
    "    area_data = phy.loc[(phy.Year == test_year), ['harvested', 'County ANSI']].dropna()\n",
    "    area_counties = (area_data['County ANSI'].unique())\n",
    "    counties = linear_raw.loc[linear_raw.year == test_year, 'adm2_code'].unique() \n",
    "    int_counties = np.intersect1d(counties, area_counties)\n",
    "    areas = []\n",
    "    for county in int_counties:\n",
    "        temp = (area_data.loc[area_data['County ANSI'] == county, 'harvested'].values[0])\n",
    "        areas.append(temp)"
   ]
  },
  {
   "cell_type": "code",
   "execution_count": 117,
   "metadata": {},
   "outputs": [],
   "source": [
    "if (not isSingleLevel()):\n",
    "    granularity_error = []\n",
    "    plt.figure(figsize=(20,10))\n",
    "    ax = plt.subplot(111)\n",
    "    for each in ['top', 'right']:\n",
    "        ax.spines[each].set_visible(False)\n",
    "    plt.xlabel(\"Day\")\n",
    "    plt.ylabel(\"Absolute Error %\")\n",
    "\n",
    "    result = np.dot(areas,result_array)\n",
    "    for each in model_predictions:\n",
    "        granularity_error.append(100*np.abs(np.dot(areas,each)-result)/result)\n",
    "\n",
    "    plt.title(\"Mean Error overall for \" + str(test_year) + \" = \" + \"{0:.2f}\".format(np.mean(granularity_error)) + \"%\")\n",
    "    plt.plot(np.arange(first_day,last_day,pred_step), granularity_error)\n",
    "    plt.savefig(str(test_year) + granularity + \" Error percentage\")"
   ]
  },
  {
   "cell_type": "code",
   "execution_count": 122,
   "metadata": {},
   "outputs": [
    {
     "name": "stdout",
     "output_type": "stream",
     "text": [
      "Day 0 Error for 2016 = 10.02%\n"
     ]
    }
   ],
   "source": [
    "print(\"Day 0 Error for \" + str(test_year) + \" = \" + \"{0:.2f}\".format(error[0]) + \"%\")"
   ]
  },
  {
   "cell_type": "code",
   "execution_count": 118,
   "metadata": {},
   "outputs": [
    {
     "data": {
      "image/png": "[encoded data removed]",
      "text/plain": [
       "<Figure size 720x720 with 1 Axes>"
      ]
     },
     "metadata": {},
     "output_type": "display_data"
    }
   ],
   "source": [
    "plt.figure(figsize=(10,10))\n",
    "ax = plt.subplot(111)\n",
    "for each in ['top', 'right']:\n",
    "    ax.spines[each].set_visible(False)\n",
    "plt.xlabel(granularity)\n",
    "plt.ylabel(\"Absolute Error %\")\n",
    "plt.title(\"Day 0 Error for \" + str(test_year) + \" = \" + \"{0:.2f}\".format(error[0]) + \"%\")\n",
    "plt.plot(100*np.abs(model_predictions[0] - result_array)/result_array, 'o')\n",
    "plt.savefig(str(test_year) + granularity + \" Day 0 Error percentage\")"
   ]
  },
  {
   "cell_type": "code",
   "execution_count": 120,
   "metadata": {},
   "outputs": [],
   "source": [
    "if (not isSingleLevel()):\n",
    "    plt.figure(figsize=(20,10))\n",
    "    ax = plt.subplot(111)\n",
    "    for each in ['top', 'right']:\n",
    "        ax.spines[each].set_visible(False)\n",
    "    plt.ylabel(\"error in percentage\")\n",
    "    plt.xlabel(\"Area harvested from \" + granularity + \" in acres\")\n",
    "    plt.plot(areas, 100*np.abs(model_predictions[-1] - result_array)/result_array, 'o')\n",
    "    plt.savefig(\"Combined area errors \" + str(test_year) + granularity)"
   ]
  }
 ],
 "metadata": {
  "kernelspec": {
   "display_name": "Python 3",
   "language": "python",
   "name": "python3"
  },
  "language_info": {
   "codemirror_mode": {
    "name": "ipython",
    "version": 3
   },
   "file_extension": ".py",
   "mimetype": "text/x-python",
   "name": "python",
   "nbconvert_exporter": "python",
   "pygments_lexer": "ipython3",
   "version": "3.6.8"
  }
 },
 "nbformat": 4,
 "nbformat_minor": 2
}
